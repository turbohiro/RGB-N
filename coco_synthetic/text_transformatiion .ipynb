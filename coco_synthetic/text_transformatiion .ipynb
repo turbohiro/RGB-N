{
 "cells": [
  {
   "cell_type": "code",
   "execution_count": 1,
   "metadata": {},
   "outputs": [
    {
     "name": "stdout",
     "output_type": "stream",
     "text": [
      "/RGB-N/filter_tamper/Tp_47387_488014_84.13_205.92_306.77_454.49_dog.png 84.13000 205.92000 306.77000 454.49000\n",
      "\n"
     ]
    }
   ],
   "source": [
    "from PIL import Image\n",
    "\n",
    "#file.txt中存的是我需要批量读取的txt的绝对路径\n",
    "lines = open(\"test_filter.txt\").readlines()\n",
    "line = lines[1]\n",
    "print(line)\n"
   ]
  },
  {
   "cell_type": "code",
   "execution_count": 11,
   "metadata": {},
   "outputs": [
    {
     "name": "stdout",
     "output_type": "stream",
     "text": [
      "/RGB-N/filter_tamper/Tp_555088_322892_171.27_530.2_200.70000000000002_560.3900000000001_car.png\n"
     ]
    }
   ],
   "source": [
    "content = line.split(\" \")\n",
    "print(content[0])"
   ]
  },
  {
   "cell_type": "code",
   "execution_count": 13,
   "metadata": {},
   "outputs": [],
   "source": [
    "e = content[0]\n",
    "a = line.split('_')[-1]"
   ]
  },
  {
   "cell_type": "code",
   "execution_count": 15,
   "metadata": {},
   "outputs": [
    {
     "name": "stdout",
     "output_type": "stream",
     "text": [
      "car\n"
     ]
    }
   ],
   "source": [
    "print(a.split('.')[0])"
   ]
  },
  {
   "cell_type": "code",
   "execution_count": 8,
   "metadata": {},
   "outputs": [
    {
     "data": {
      "text/plain": [
       "Counter({'airplane': 8,\n",
       "         'apple': 1,\n",
       "         'bird': 23,\n",
       "         'cake': 8,\n",
       "         'cat': 28,\n",
       "         'dog': 49,\n",
       "         'train': 22})"
      ]
     },
     "execution_count": 8,
     "metadata": {},
     "output_type": "execute_result"
    }
   ],
   "source": [
    "label = []\n",
    "lines = open(\"test_filter.txt\").readlines()\n",
    "for line in lines:\n",
    "    content = line.split(\" \")\n",
    "    line_1 = content[0]\n",
    "    a = line_1.split('_')[-1]\n",
    "    label.append(a.split('.')[0])\n",
    "    \n",
    "from collections import Counter\n",
    "Counter(label)"
   ]
  },
  {
   "cell_type": "code",
   "execution_count": 9,
   "metadata": {},
   "outputs": [
    {
     "data": {
      "text/plain": [
       "Counter({'airplane': 2604,\n",
       "         'apple': 1994,\n",
       "         'bird': 1976,\n",
       "         'cake': 1985,\n",
       "         'cat': 1964,\n",
       "         'dog': 1943,\n",
       "         'train': 1938})"
      ]
     },
     "execution_count": 9,
     "metadata": {},
     "output_type": "execute_result"
    }
   ],
   "source": [
    "label = []\n",
    "lines = open(\"train_filter.txt\").readlines()\n",
    "for line in lines:\n",
    "    content = line.split(\" \")\n",
    "    line_1 = content[0]\n",
    "    a = line_1.split('_')[-1]\n",
    "    label.append(a.split('.')[0])\n",
    "    \n",
    "from collections import Counter\n",
    "Counter(label)"
   ]
  },
  {
   "cell_type": "code",
   "execution_count": 6,
   "metadata": {},
   "outputs": [],
   "source": [
    "f = open(r'test.txt','w+')\n",
    "lines = open(\"test_filter.txt\").readlines()\n",
    "for line in lines:\n",
    "    content = line.split(\" \")\n",
    "    a = content[0].split('_')[-1]\n",
    "    cls = a.split('.')[0]\n",
    "    line_new =line.replace('\\n','')\n",
    "    line_new=line_new + ' ' + 'tamper' + '\\n' \n",
    "    f.write(line_new)"
   ]
  },
  {
   "cell_type": "code",
   "execution_count": 7,
   "metadata": {},
   "outputs": [],
   "source": [
    "f = open(r'train.txt','w+')\n",
    "lines = open(\"train_filter.txt\").readlines()\n",
    "for line in lines:\n",
    "    content = line.split(\" \")\n",
    "    a = content[0].split('_')[-1]\n",
    "    cls = a.split('.')[0]\n",
    "    line_new =line.replace('\\n','')\n",
    "    line_new=line_new + ' ' + 'tamper' + '\\n' \n",
    "    f.write(line_new)"
   ]
  },
  {
   "cell_type": "code",
   "execution_count": 6,
   "metadata": {},
   "outputs": [
    {
     "name": "stdout",
     "output_type": "stream",
     "text": [
      "{'couch', 'horse', 'scissors', 'bird', 'umbrella', 'clock', 'remote', 'keyboard', 'tennis racket', 'dog', 'surfboard', 'baseball glove', 'skis', 'fire hydrant', 'skateboard', 'laptop', 'bicycle', 'bowl', 'elephant', 'boat', 'suitcase', 'kite', 'sandwich', 'backpack', 'vase', 'refrigerator', 'banana', 'frisbee', 'cake', 'fork', 'bus', 'snowboard', 'zebra', 'potted plant', 'sheep', 'car', 'stop sign', 'motorcycle', 'pizza', 'cat', 'handbag', 'oven', 'knife', 'hot dog', 'traffic light', 'wine glass', 'bottle', 'microwave', 'cell phone', 'truck', 'tv', 'parking meter', 'apple', 'donut', 'toilet', 'sink', 'airplane', 'bed', 'bench', 'baseball bat', 'mouse', 'orange', 'tie', 'teddy bear', 'giraffe', 'cow', 'bear', 'chair', 'toaster', 'hair drier', 'spoon', 'cup', 'dining table', 'train', 'broccoli', 'sports ball', 'carrot', 'toothbrush', 'book'}\n"
     ]
    }
   ],
   "source": [
    "\n",
    "\n",
    "import networkx as nx\n",
    "import numpy as np\n",
    "import os\n",
    "from glob import glob \n",
    "import sys\n",
    "import skimage.io as io\n",
    "import pdb\n",
    "ext='Tp*'\n",
    "data_dir='/RGB-N/filter_tamper' #FIXME\n",
    "filenames=glob(os.path.join(data_dir,ext))\n",
    "a = []\n",
    "for file in filenames:\n",
    "    content=os.path.splitext(os.path.basename(file))[0].split(\"_\")\n",
    "    a.append(content[-1])\n",
    "print(set(a))"
   ]
  },
  {
   "cell_type": "code",
   "execution_count": 11,
   "metadata": {},
   "outputs": [
    {
     "data": {
      "text/plain": [
       "Counter({'airplane': 2613,\n",
       "         'apple': 1995,\n",
       "         'backpack': 2000,\n",
       "         'banana': 1996,\n",
       "         'baseball bat': 1995,\n",
       "         'baseball glove': 1992,\n",
       "         'bear': 1980,\n",
       "         'bed': 1993,\n",
       "         'bench': 1984,\n",
       "         'bicycle': 5974,\n",
       "         'bird': 1999,\n",
       "         'boat': 1988,\n",
       "         'book': 1999,\n",
       "         'bottle': 1998,\n",
       "         'bowl': 1993,\n",
       "         'broccoli': 1998,\n",
       "         'bus': 1987,\n",
       "         'cake': 1994,\n",
       "         'car': 3972,\n",
       "         'carrot': 1996,\n",
       "         'cat': 1994,\n",
       "         'cell phone': 1999,\n",
       "         'chair': 1993,\n",
       "         'clock': 1991,\n",
       "         'couch': 1999,\n",
       "         'cow': 1984,\n",
       "         'cup': 1997,\n",
       "         'dining table': 1997,\n",
       "         'dog': 1992,\n",
       "         'donut': 2000,\n",
       "         'elephant': 1988,\n",
       "         'fire hydrant': 1991,\n",
       "         'fork': 1996,\n",
       "         'frisbee': 2000,\n",
       "         'giraffe': 1999,\n",
       "         'hair drier': 1882,\n",
       "         'handbag': 1993,\n",
       "         'horse': 1947,\n",
       "         'hot dog': 1997,\n",
       "         'keyboard': 1999,\n",
       "         'kite': 2000,\n",
       "         'knife': 1998,\n",
       "         'laptop': 2000,\n",
       "         'microwave': 1999,\n",
       "         'motorcycle': 3979,\n",
       "         'mouse': 1999,\n",
       "         'orange': 1997,\n",
       "         'oven': 1984,\n",
       "         'parking meter': 1974,\n",
       "         'pizza': 2000,\n",
       "         'potted plant': 1996,\n",
       "         'refrigerator': 1999,\n",
       "         'remote': 1999,\n",
       "         'sandwich': 1998,\n",
       "         'scissors': 1990,\n",
       "         'sheep': 1989,\n",
       "         'sink': 1998,\n",
       "         'skateboard': 1992,\n",
       "         'skis': 1992,\n",
       "         'snowboard': 1998,\n",
       "         'spoon': 1987,\n",
       "         'sports ball': 1998,\n",
       "         'stop sign': 2000,\n",
       "         'suitcase': 1984,\n",
       "         'surfboard': 1994,\n",
       "         'teddy bear': 1992,\n",
       "         'tennis racket': 1991,\n",
       "         'tie': 1960,\n",
       "         'toaster': 1919,\n",
       "         'toilet': 1999,\n",
       "         'toothbrush': 1998,\n",
       "         'traffic light': 1995,\n",
       "         'train': 1962,\n",
       "         'truck': 1984,\n",
       "         'tv': 2000,\n",
       "         'umbrella': 1983,\n",
       "         'vase': 1992,\n",
       "         'wine glass': 1994,\n",
       "         'zebra': 1997})"
      ]
     },
     "execution_count": 11,
     "metadata": {},
     "output_type": "execute_result"
    }
   ],
   "source": [
    "from collections import Counter\n",
    "Counter(a)"
   ]
  },
  {
   "cell_type": "code",
   "execution_count": 12,
   "metadata": {},
   "outputs": [
    {
     "data": {
      "text/plain": [
       "79"
      ]
     },
     "execution_count": 12,
     "metadata": {},
     "output_type": "execute_result"
    }
   ],
   "source": [
    "len(set(a))"
   ]
  },
  {
   "cell_type": "code",
   "execution_count": 10,
   "metadata": {},
   "outputs": [
    {
     "name": "stdout",
     "output_type": "stream",
     "text": [
      "['/RGB-N/filter_tamper/Tp_413421_399675_323.6_181.21_463.82000000000005_348.4_cake.png', '/RGB-N/filter_tamper/Tp_329515_222659_226.67_112.16_481.21_310.83_cat.png', '/RGB-N/filter_tamper/Tp_116174_332012_78.58_29.44_568.21_332.54_airplane.png', '/RGB-N/filter_tamper/Tp_217571_571048_167.45_258.96_393.77_360.9_airplane.png', '/RGB-N/filter_tamper/Tp_517772_337262_237.19_230.77_407.19_321.37_train.png', '/RGB-N/filter_tamper/Tp_359949_42861_316.24_112.42_444.19_326.29_bird.png', '/RGB-N/filter_tamper/Tp_554360_304603_63.31_283.53_374.37_568.43_cat.png', '/RGB-N/filter_tamper/Tp_183055_338134_61.09_186.23_182.82999999999998_219.26999999999998_cat.png', '/RGB-N/filter_tamper/Tp_166967_75691_134.83_56.89_191.32000000000002_107.3_bird.png', '/RGB-N/filter_tamper/Tp_64233_361428_497.81_91.73_509.01_106.60000000000001_bird.png', '/RGB-N/filter_tamper/Tp_540285_160290_324.55_242.24_428.5_426.43_bird.png', '/RGB-N/filter_tamper/Tp_137230_331457_66.48_337.94_78.89_356.51_apple.png', '/RGB-N/filter_tamper/Tp_169634_56857_117.65_164.17_324.33000000000004_368.95_cat.png', '/RGB-N/filter_tamper/Tp_208020_253308_225.69_320.81_278.81_417.71000000000004_bird.png', '/RGB-N/filter_tamper/Tp_382706_486062_65.39_102.38_82.98_152.65_bird.png', '/RGB-N/filter_tamper/Tp_25148_118697_288.07_127.2_482.29999999999995_288.9_dog.png', '/RGB-N/filter_tamper/Tp_32093_13000_34.54_91.16_630.42_309.93_airplane.png', '/RGB-N/filter_tamper/Tp_118723_433987_240.59_79.89_562.91_393.02_cat.png', '/RGB-N/filter_tamper/Tp_106545_204800_447.38_153.62_466.09_171.47_dog.png', '/RGB-N/filter_tamper/Tp_348451_476993_300.35_131.59_438.6_227.37_airplane.png', '/RGB-N/filter_tamper/Tp_113418_350014_51.22_78.78_634.95_422.57000000000005_dog.png', '/RGB-N/filter_tamper/Tp_548913_187120_225.87_168.78_488.9_337.46000000000004_cake.png', '/RGB-N/filter_tamper/Tp_24266_165470_226.07_135.52_290.27_212.57_cat.png', '/RGB-N/filter_tamper/Tp_239037_182758_41.21_146.04_407.76_356.85_cat.png', '/RGB-N/filter_tamper/Tp_41552_292135_385.51_54.89_490.96_184.54000000000002_dog.png', '/RGB-N/filter_tamper/Tp_386936_214943_18.87_179.71_562.66_399.79_dog.png', '/RGB-N/filter_tamper/Tp_274323_4820_1.03_32.45_640.0_473.36_cat.png', '/RGB-N/filter_tamper/Tp_91465_211716_49.66_40.75_389.52_279.1_cat.png', '/RGB-N/filter_tamper/Tp_15957_78699_277.6_263.45_475.55_394.92999999999995_dog.png', '/RGB-N/filter_tamper/Tp_333498_384395_0.0_0.99_640.0_399.38_train.png', '/RGB-N/filter_tamper/Tp_161973_405441_186.78_220.5_291.88_301.77_airplane.png', '/RGB-N/filter_tamper/Tp_322726_183154_0.96_189.91_375.02_402.84000000000003_bird.png', '/RGB-N/filter_tamper/Tp_229088_481441_111.11_156.29_269.15_233.14999999999998_cat.png', '/RGB-N/filter_tamper/Tp_65859_157251_0.0_44.57_229.49_341.39_train.png', '/RGB-N/filter_tamper/Tp_539575_542854_74.54_273.72_367.01000000000005_600.6700000000001_dog.png', '/RGB-N/filter_tamper/Tp_411028_241026_176.17_144.53_456.56999999999994_421.69000000000005_train.png', '/RGB-N/filter_tamper/Tp_573430_223462_93.68_246.32_369.37_432.1_cat.png', '/RGB-N/filter_tamper/Tp_108851_405437_172.53_46.58_508.95000000000005_270.86_dog.png', '/RGB-N/filter_tamper/Tp_552389_290753_198.39_75.48_640.0_480.0_dog.png', '/RGB-N/filter_tamper/Tp_24792_178695_0.0_140.57_506.17_342.0_train.png', '/RGB-N/filter_tamper/Tp_157505_285628_160.45_193.83_343.33_371.53_dog.png', '/RGB-N/filter_tamper/Tp_162427_250543_1.63_2.44_322.14_183.03_cat.png', '/RGB-N/filter_tamper/Tp_547542_448851_99.1_232.6_337.2_601.46_cat.png', '/RGB-N/filter_tamper/Tp_100485_377609_0.85_111.64_348.77000000000004_419.38_dog.png', '/RGB-N/filter_tamper/Tp_470114_534480_90.61_232.99_629.9300000000001_400.18_train.png', '/RGB-N/filter_tamper/Tp_71845_175202_41.08_110.72_559.6800000000001_339.12_cat.png', '/RGB-N/filter_tamper/Tp_343696_346678_118.19_184.54_122.91_193.35999999999999_bird.png', '/RGB-N/filter_tamper/Tp_291290_24257_13.38_5.96_587.13_411.03999999999996_train.png', '/RGB-N/filter_tamper/Tp_299154_140700_262.83_231.09_307.27_288.71_dog.png', '/RGB-N/filter_tamper/Tp_34013_82788_217.31_88.82_640.0_342.35_dog.png']\n"
     ]
    }
   ],
   "source": [
    "import cv2\n",
    "import os\n",
    "save_name=[]\n",
    "data_dir='/RGB-N/filter_tamper'\n",
    "with open(os.path.join(data_dir, 'test_filter_4_15.txt'),'r') as f:\n",
    "            im_names=f.readlines()\n",
    "            for file in im_names:\n",
    "                im_name=file.split(' ')[0]\n",
    "                save_name.append(im_name)\n",
    "print(save_name)"
   ]
  },
  {
   "cell_type": "code",
   "execution_count": 12,
   "metadata": {},
   "outputs": [
    {
     "data": {
      "text/plain": [
       "50"
      ]
     },
     "execution_count": 12,
     "metadata": {},
     "output_type": "execute_result"
    }
   ],
   "source": [
    "len(save_name)"
   ]
  },
  {
   "cell_type": "code",
   "execution_count": 26,
   "metadata": {},
   "outputs": [],
   "source": [
    "vis_dir='input/original'\n",
    "%matplotlib inline\n",
    "\n",
    "import matplotlib.pyplot as plt\n",
    "if not os.path.exists(vis_dir):\n",
    "    os.makedirs(vis_dir)\n",
    "#for file in save_name:\n",
    "img = cv2.imread(save_name[10]) \n",
    "fig, ax = plt.subplots(figsize=(12, 12))\n",
    "ax.imshow(img, aspect='equal')\n",
    "plt.axis('off')\n",
    "plt.tight_layout()\n",
    "plt.draw()\n",
    "plt.savefig('{}'.format(os.path.join(vis_dir, os.path.basename(save_name[10]))))\n",
    "plt.close(fig)"
   ]
  },
  {
   "cell_type": "code",
   "execution_count": 1,
   "metadata": {},
   "outputs": [
    {
     "ename": "NameError",
     "evalue": "name 'os' is not defined",
     "output_type": "error",
     "traceback": [
      "\u001b[0;31m---------------------------------------------------------------------------\u001b[0m",
      "\u001b[0;31mNameError\u001b[0m                                 Traceback (most recent call last)",
      "\u001b[0;32m<ipython-input-1-fbfb5a49acb5>\u001b[0m in \u001b[0;36m<module>\u001b[0;34m()\u001b[0m\n\u001b[1;32m      1\u001b[0m \u001b[0mget_ipython\u001b[0m\u001b[0;34m(\u001b[0m\u001b[0;34m)\u001b[0m\u001b[0;34m.\u001b[0m\u001b[0mrun_line_magic\u001b[0m\u001b[0;34m(\u001b[0m\u001b[0;34m'matplotlib'\u001b[0m\u001b[0;34m,\u001b[0m \u001b[0;34m'inline'\u001b[0m\u001b[0;34m)\u001b[0m\u001b[0;34m\u001b[0m\u001b[0m\n\u001b[1;32m      2\u001b[0m \u001b[0mvis_dir\u001b[0m\u001b[0;34m=\u001b[0m\u001b[0;34m'/RGB-N/tools'\u001b[0m\u001b[0;34m\u001b[0m\u001b[0m\n\u001b[0;32m----> 3\u001b[0;31m \u001b[0;32mif\u001b[0m \u001b[0;32mnot\u001b[0m \u001b[0mos\u001b[0m\u001b[0;34m.\u001b[0m\u001b[0mpath\u001b[0m\u001b[0;34m.\u001b[0m\u001b[0mexists\u001b[0m\u001b[0;34m(\u001b[0m\u001b[0mvis_dir\u001b[0m\u001b[0;34m)\u001b[0m\u001b[0;34m:\u001b[0m\u001b[0;34m\u001b[0m\u001b[0m\n\u001b[0m\u001b[1;32m      4\u001b[0m     \u001b[0mos\u001b[0m\u001b[0;34m.\u001b[0m\u001b[0mmakedirs\u001b[0m\u001b[0;34m(\u001b[0m\u001b[0mvis_dir\u001b[0m\u001b[0;34m)\u001b[0m\u001b[0;34m\u001b[0m\u001b[0m\n\u001b[1;32m      5\u001b[0m \u001b[0;32mimport\u001b[0m \u001b[0mmatplotlib\u001b[0m\u001b[0;34m.\u001b[0m\u001b[0mpyplot\u001b[0m \u001b[0;32mas\u001b[0m \u001b[0mplt\u001b[0m\u001b[0;34m\u001b[0m\u001b[0m\n",
      "\u001b[0;31mNameError\u001b[0m: name 'os' is not defined"
     ]
    }
   ],
   "source": [
    "%matplotlib inline\n",
    "vis_dir='/RGB-N/tools'\n",
    "if not os.path.exists(vis_dir):\n",
    "    os.makedirs(vis_dir)\n",
    "import matplotlib.pyplot as plt\n",
    "#for file in save_name:\n",
    "#    im = cv2.imread(file)\n",
    "#    fig, ax = plt.subplots(figsize=(12, 12))\n",
    "#    ax.imshow(im, aspect='equal')\n",
    "#    plt.axis('off')\n",
    "#    plt.tight_layout()\n",
    "#    plt.draw()\n",
    " #   plt.savefig('{}'.format(os.path.join(vis_dir, os.path.basename(file))))"
   ]
  },
  {
   "cell_type": "code",
   "execution_count": null,
   "metadata": {},
   "outputs": [],
   "source": [
    "%matplotlib inline\n",
    "\n",
    "import matplotlib.pyplot as plt\n",
    "im = cv2.imread(save_name[0])\n",
    "cv2.namedWindow(\"Image\")\n",
    "cv2.imshow(\"Image\", im)   "
   ]
  },
  {
   "cell_type": "code",
   "execution_count": 3,
   "metadata": {},
   "outputs": [
    {
     "name": "stdout",
     "output_type": "stream",
     "text": [
      "/RGB-N/filter_tamper/Tp_413421_399675_323.6_181.21_463.82000000000005_348.4_cake.png\n"
     ]
    }
   ],
   "source": [
    "print(save_name[0])"
   ]
  }
 ],
 "metadata": {
  "kernelspec": {
   "display_name": "Python 3",
   "language": "python",
   "name": "python3"
  },
  "language_info": {
   "codemirror_mode": {
    "name": "ipython",
    "version": 3
   },
   "file_extension": ".py",
   "mimetype": "text/x-python",
   "name": "python",
   "nbconvert_exporter": "python",
   "pygments_lexer": "ipython3",
   "version": "3.5.6"
  }
 },
 "nbformat": 4,
 "nbformat_minor": 2
}
